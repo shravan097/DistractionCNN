{
 "cells": [
  {
   "cell_type": "markdown",
   "metadata": {
    "colab_type": "text",
    "id": "PXsD6PzqHdGr"
   },
   "source": [
    "# 1. Data Processing"
   ]
  },
  {
   "cell_type": "code",
   "execution_count": 1,
   "metadata": {
    "colab": {},
    "colab_type": "code",
    "id": "hedp94EQHdGu"
   },
   "outputs": [],
   "source": [
    "import warnings\n",
    "warnings.filterwarnings('ignore')"
   ]
  },
  {
   "cell_type": "code",
   "execution_count": 2,
   "metadata": {
    "colab": {},
    "colab_type": "code",
    "id": "ofEYcW2LHdGx"
   },
   "outputs": [],
   "source": [
    "import pathlib\n",
    "import random\n",
    "import os\n",
    "import matplotlib.pyplot as plt\n",
    "import pandas as pd\n",
    "from PIL import Image\n",
    "import tensorflow as tf;"
   ]
  },
  {
   "cell_type": "code",
   "execution_count": 3,
   "metadata": {
    "colab": {},
    "colab_type": "code",
    "id": "PwkKWU9kHdG0"
   },
   "outputs": [],
   "source": [
    "tf.enable_eager_execution()"
   ]
  },
  {
   "cell_type": "code",
   "execution_count": 19,
   "metadata": {
    "colab": {},
    "colab_type": "code",
    "id": "pQR56y0vHdG4"
   },
   "outputs": [],
   "source": [
    "# Dataset Parameters - CHANGE HERE\n",
    "MODE = 'folder' # or 'file', if you choose a plain text file (see above).\n",
    "# the dataset file or root folder path.\n",
    "DATASET_PATH = \"/home/jupyter/DistractionCNN/train\"\n",
    "TEST_PATH = \"/home/jupyter/DistractionCNN/test\"\n",
    "# Image Parameters\n",
    "N_CLASSES = 10 # CHANGE HERE, total number of classes\n",
    "IMG_HEIGHT = 200 # CHANGE HERE, the image height to be resized to\n",
    "IMG_WIDTH = 200 # CHANGE HERE, the image width to be resized to\n",
    "CHANNELS = 3 # The 3 color channels, change to 1 if grayscale\n",
    "BATCH_SIZE = 128\n",
    "imgClassDict = dict({\n",
    "\t\"c0\": \"safe_driving\",\n",
    "\t\"c1\": \"texting_right\",\n",
    "\t\"c2\": \"talking_on_phone_right\",\n",
    "\t\"c3\": \"texting_left\",\n",
    "\t\"c4\": \"talking_on_phone_left\",\n",
    "\t\"c5\": \"operating_the_radio\",\n",
    "\t\"c6\": \"drinking\",\n",
    "\t\"c7\": \"reaching_behind\",\n",
    "\t\"c8\": \"hair_makeup\",\n",
    "\t\"c9\": \"talking_to_passenger\",\n",
    "})\n",
    "LABELS = [0,1,2,3,4,5,6,7,8,9]\n",
    "AUTOTUNE = tf.data.experimental.AUTOTUNE\n",
    "TRAIN_SIZE = None\n",
    "VALIDATION_SET_SIZE = 2000"
   ]
  },
  {
   "cell_type": "code",
   "execution_count": 5,
   "metadata": {
    "colab": {},
    "colab_type": "code",
    "id": "cEkI2aXGHdG6"
   },
   "outputs": [],
   "source": [
    "imgTest = Image.open(DATASET_PATH+ \"/c0/img_52332.jpg\")"
   ]
  },
  {
   "cell_type": "code",
   "execution_count": 6,
   "metadata": {
    "colab": {
     "base_uri": "https://8080-dot-3774157-dot-devshell.appspot.com/",
     "height": 34
    },
    "colab_type": "code",
    "id": "1RKpcIHHHdG9",
    "outputId": "b3823178-c258-4d50-dbc4-cf9fd5232f95"
   },
   "outputs": [
    {
     "data": {
      "text/plain": [
       "(640, 480)"
      ]
     },
     "execution_count": 6,
     "metadata": {},
     "output_type": "execute_result"
    }
   ],
   "source": [
    "# safe driving\n",
    "imgTest.size"
   ]
  },
  {
   "cell_type": "code",
   "execution_count": 7,
   "metadata": {
    "colab": {},
    "colab_type": "code",
    "id": "PAgRrqY2HdHB"
   },
   "outputs": [],
   "source": [
    "\"\"\"\n",
    "- From a root folder, that will have a sub-folder containing images for each class\n",
    "    ```\n",
    "    ROOT_FOLDER\n",
    "       |-------- SUBFOLDER (CLASS 0)\n",
    "       |             |\n",
    "       |             | ----- image1.jpg\n",
    "       |             | ----- image2.jpg\n",
    "       |             | ----- etc...\n",
    "       |             \n",
    "       |-------- SUBFOLDER (CLASS 1)\n",
    "       |             |\n",
    "       |             | ----- image1.jpg\n",
    "       |             | ----- image2.jpg\n",
    "       |             | ----- etc...\n",
    "    ```\n",
    "\"\"\"\n",
    "# Reading the dataset\n",
    "# 2 modes: 'file' or 'folder'\n",
    "def read_images(dataset_path, mode, batch_size):\n",
    "    imagePaths, labels = list(), list()\n",
    "    \n",
    "     # One Hot Encode the labels\n",
    "    labels_unique = tf.one_hot(LABELS,len(LABELS))\n",
    "    \n",
    "    if mode == 'file':\n",
    "        # Read dataset file\n",
    "        with open(dataset_path) as f:\n",
    "            data = f.read().splitlines()\n",
    "            print(data)\n",
    "        for d in data:\n",
    "            imagePaths.append(d.split(' ')[0])\n",
    "            labels.append(int(d.split(' ')[1]))\n",
    "    elif mode == 'folder':\n",
    "        # An ID will be affected to each sub-folders by alphabetical order\n",
    "        label = 0\n",
    "        # List the directory\n",
    "        classes = sorted(os.walk(dataset_path).__next__()[1])\n",
    "        # List each sub-directory (the classes)\n",
    "        for c in classes:\n",
    "            c_dir = os.path.join(dataset_path, c)\n",
    "            walk = os.walk(c_dir).__next__()\n",
    "            # Add each image to the training set\n",
    "            for sample in walk[2]:\n",
    "                # Only keeps jpeg images\n",
    "                if sample.endswith('.jpg') or sample.endswith('.jpeg'):\n",
    "                    imagePaths.append(os.path.join(c_dir, sample))\n",
    "                    labels.append(labels_unique[int(c[1])])\n",
    "    else:\n",
    "        raise Exception(\"Unknown mode.\")\n",
    "\n",
    "    global TRAIN_SIZE\n",
    "    TRAIN_SIZE = len(imagePaths)\n",
    "    \n",
    "    \n",
    "    \n",
    "    def preprocessImage(image):\n",
    "      image = tf.image.decode_jpeg(image, channels=CHANNELS)\n",
    "      image = tf.image.resize(image, [IMG_HEIGHT, IMG_WIDTH])\n",
    "      image /= 255.0  # normalize to [0,1] range\n",
    "      return image\n",
    "    \n",
    "    def loadImage(path):\n",
    "      image = tf.read_file(path)\n",
    "      return preprocessImage(image)\n",
    "    \n",
    "    def createTFDataset(datasetPath):\n",
    "       # Convert to Tensor\n",
    "      imagePaths = tf.data.Dataset.from_tensor_slices(datasetPath[0])\n",
    "      labels = tf.data.Dataset.from_tensor_slices(datasetPath[1])\n",
    "\n",
    "      imageDataset = imagePaths.map(loadImage,\n",
    "                                    num_parallel_calls = AUTOTUNE)\n",
    "\n",
    "      dataset = tf.data.Dataset.zip((imageDataset,labels))\n",
    "      # Running this shuffle overloads my memory so bufferSize is \n",
    "      # set low . Not really good but ok for R&D i guess\n",
    "      dataset = dataset.shuffle(buffer_size=10)\n",
    "      dataset = dataset.repeat()\n",
    "      dataset = dataset.batch(batch_size)\n",
    "      dataset = dataset.prefetch(buffer_size=AUTOTUNE)\n",
    "      return dataset\n",
    "      \n",
    "      \n",
    "    #Shuffle Paths\n",
    "    imgWLabelPath = list(zip(imagePaths,labels))\n",
    "    random.shuffle(imgWLabelPath)\n",
    "    imagePaths,labels = zip(*imgWLabelPath)\n",
    "    imagePaths = list(imagePaths)\n",
    "    labels = list(labels)\n",
    "    \n",
    "    # couldn't split the dataset using tf core api\n",
    "    # but this way is 'okay' IMO\n",
    "    devSet = [imagePaths[:VALIDATION_SET_SIZE],labels[:VALIDATION_SET_SIZE]]\n",
    "    trainSet = [imagePaths[VALIDATION_SET_SIZE:],labels[VALIDATION_SET_SIZE:]]\n",
    "    \n",
    "    trainDataset = createTFDataset(trainSet)\n",
    "    devDataset = createTFDataset(devSet)\n",
    "    \n",
    "    \n",
    "    return trainDataset,devDataset"
   ]
  },
  {
   "cell_type": "code",
   "execution_count": 8,
   "metadata": {
    "colab": {
     "base_uri": "https://8080-dot-3774157-dot-devshell.appspot.com/",
     "height": 54
    },
    "colab_type": "code",
    "id": "L4JN_scsHdHE",
    "outputId": "5ebfc922-7cd3-434c-de1d-9f57dbaccc6c"
   },
   "outputs": [],
   "source": [
    "train_ds,validation_ds = read_images(DATASET_PATH,MODE,BATCH_SIZE);"
   ]
  },
  {
   "cell_type": "code",
   "execution_count": 9,
   "metadata": {
    "colab": {
     "base_uri": "https://8080-dot-3774157-dot-devshell.appspot.com/",
     "height": 286
    },
    "colab_type": "code",
    "id": "hoCGMdYOHdHH",
    "outputId": "0ebb6b2a-6285-436a-887b-00f588bd6436"
   },
   "outputs": [
    {
     "name": "stdout",
     "output_type": "stream",
     "text": [
      "tf.Tensor([1. 0. 0. 0. 0. 0. 0. 0. 0. 0.], shape=(10,), dtype=float32)\n"
     ]
    },
    {
     "data": {
      "image/png": "[encoded data removed]",
      "text/plain": [
       "<Figure size 432x288 with 1 Axes>"
      ]
     },
     "metadata": {
      "needs_background": "light"
     },
     "output_type": "display_data"
    }
   ],
   "source": [
    "X_train,Y_train = next(iter(train_ds))\n",
    "plt.imshow(X_train[-2])\n",
    "print(Y_train[-2])"
   ]
  },
  {
   "cell_type": "markdown",
   "metadata": {
    "colab_type": "text",
    "id": "lElfLRuPHdHK"
   },
   "source": [
    "# 2. Loading Pre trained model"
   ]
  },
  {
   "cell_type": "markdown",
   "metadata": {
    "colab_type": "text",
    "id": "ONqxRgGqHdHM"
   },
   "source": [
    "## VGGNet"
   ]
  },
  {
   "cell_type": "code",
   "execution_count": 10,
   "metadata": {
    "colab": {
     "base_uri": "https://8080-dot-3774157-dot-devshell.appspot.com/",
     "height": 71
    },
    "colab_type": "code",
    "id": "wqMyKbAfHdHM",
    "outputId": "158ba51d-8bd0-4ccf-e666-1d4ab284f5ec"
   },
   "outputs": [],
   "source": [
    "vggNet = tf.keras.applications.VGG16(\n",
    "    input_shape=(IMG_WIDTH,IMG_HEIGHT,CHANNELS),\n",
    "    include_top = False,\n",
    "    weights = 'imagenet'\n",
    ")\n",
    "vggNet.trainable = False"
   ]
  },
  {
   "cell_type": "code",
   "execution_count": 11,
   "metadata": {
    "colab": {},
    "colab_type": "code",
    "id": "Wz3L2EC9HdHb"
   },
   "outputs": [],
   "source": [
    "myModel = tf.keras.Sequential([\n",
    "    vggNet,\n",
    "    tf.keras.layers.GlobalAveragePooling2D(),\n",
    "    tf.keras.layers.Dropout(0.5),\n",
    "    tf.keras.layers.Dense(len(LABELS),activation=tf.nn.softmax)\n",
    "])"
   ]
  },
  {
   "cell_type": "code",
   "execution_count": 12,
   "metadata": {
    "colab": {},
    "colab_type": "code",
    "id": "Igwlz4wuHdHe"
   },
   "outputs": [],
   "source": [
    "myModel.compile(optimizer=tf.train.AdamOptimizer(learning_rate=1e-4),\n",
    "              loss=tf.keras.losses.categorical_crossentropy,\n",
    "              metrics=[\"accuracy\"])"
   ]
  },
  {
   "cell_type": "code",
   "execution_count": 13,
   "metadata": {
    "colab": {
     "base_uri": "https://8080-dot-3774157-dot-devshell.appspot.com/",
     "height": 255
    },
    "colab_type": "code",
    "id": "KiQhtP7XHdHh",
    "outputId": "ab7b2e6a-fef1-439f-cc7f-30fc2bb5ee61"
   },
   "outputs": [
    {
     "name": "stdout",
     "output_type": "stream",
     "text": [
      "Model: \"sequential\"\n",
      "_________________________________________________________________\n",
      "Layer (type)                 Output Shape              Param #   \n",
      "=================================================================\n",
      "vgg16 (Model)                (None, 6, 6, 512)         14714688  \n",
      "_________________________________________________________________\n",
      "global_average_pooling2d (Gl (None, 512)               0         \n",
      "_________________________________________________________________\n",
      "dropout (Dropout)            (None, 512)               0         \n",
      "_________________________________________________________________\n",
      "dense (Dense)                (None, 10)                5130      \n",
      "=================================================================\n",
      "Total params: 14,719,818\n",
      "Trainable params: 5,130\n",
      "Non-trainable params: 14,714,688\n",
      "_________________________________________________________________\n"
     ]
    }
   ],
   "source": [
    "myModel.summary()"
   ]
  },
  {
   "cell_type": "code",
   "execution_count": 15,
   "metadata": {},
   "outputs": [],
   "source": [
    "import os\n",
    "# include the epoch in the file name. (uses `str.format`)\n",
    "checkpoint_path = \"checkpoint_trainingVGG/cp-{epoch:04d}.ckpt\"\n",
    "checkpoint_dir = os.path.dirname(checkpoint_path)\n",
    "cp_callback = tf.keras.callbacks.ModelCheckpoint(checkpoint_path,\n",
    "                                                 save_weights_only=True,\n",
    "                                                 verbose=1)"
   ]
  },
  {
   "cell_type": "code",
   "execution_count": 16,
   "metadata": {},
   "outputs": [
    {
     "name": "stdout",
     "output_type": "stream",
     "text": [
      "Weights loaded succesfully!...\n"
     ]
    }
   ],
   "source": [
    "try:\n",
    "    latest = tf.train.latest_checkpoint(checkpoint_dir)\n",
    "    myModel.load_weights(latest)\n",
    "    print('Weights loaded succesfully!...')\n",
    "except:\n",
    "    print('Loading unsuccesful. Proceeding to normal training...')\n",
    "    pass"
   ]
  },
  {
   "cell_type": "code",
   "execution_count": 17,
   "metadata": {},
   "outputs": [],
   "source": [
    "# X_val,Y_val = next(iter(validation_ds))\n",
    "# t = myModel.evaluate(X_val,Y_val)"
   ]
  },
  {
   "cell_type": "code",
   "execution_count": 18,
   "metadata": {},
   "outputs": [],
   "source": [
    "# myModel.save_weights(checkpoint_path.format(epoch=0))"
   ]
  },
  {
   "cell_type": "code",
   "execution_count": 19,
   "metadata": {
    "colab": {
     "base_uri": "https://8080-dot-3774157-dot-devshell.appspot.com/",
     "height": 341
    },
    "colab_type": "code",
    "id": "ExZo--qQHdHj",
    "outputId": "93b3d6d1-e617-4ae4-a0ea-373ca731c3e8"
   },
   "outputs": [
    {
     "name": "stdout",
     "output_type": "stream",
     "text": [
      "Epoch 1/3\n"
     ]
    },
    {
     "name": "stderr",
     "output_type": "stream",
     "text": [
      "WARNING: Logging before flag parsing goes to stderr.\n",
      "W0827 11:30:55.064570 140176626812672 deprecation.py:323] From /usr/local/lib/python3.5/dist-packages/tensorflow/python/ops/math_grad.py:1250: add_dispatch_support.<locals>.wrapper (from tensorflow.python.ops.array_ops) is deprecated and will be removed in a future version.\n",
      "Instructions for updating:\n",
      "Use tf.where in 2.0, which has the same broadcast rule as np.where\n"
     ]
    },
    {
     "name": "stdout",
     "output_type": "stream",
     "text": [
      "20423/20424 [============================>.] - ETA: 0s - loss: 1.7779 - acc: 0.4280\n",
      "Epoch 00001: saving model to checkpoint_trainingVGG/cp-0001.ckpt\n",
      "20424/20424 [==============================] - 20406s 999ms/step - loss: 1.7779 - acc: 0.4280 - val_loss: 1.3363 - val_acc: 0.7670\n",
      "Epoch 2/3\n",
      "20423/20424 [============================>.] - ETA: 0s - loss: 1.4258 - acc: 0.5437\n",
      "Epoch 00002: saving model to checkpoint_trainingVGG/cp-0002.ckpt\n",
      "20424/20424 [==============================] - 20402s 999ms/step - loss: 1.4257 - acc: 0.5437 - val_loss: 1.0881 - val_acc: 0.8195\n",
      "Epoch 3/3\n",
      "20423/20424 [============================>.] - ETA: 0s - loss: 1.3161 - acc: 0.5726\n",
      "Epoch 00003: saving model to checkpoint_trainingVGG/cp-0003.ckpt\n",
      "20424/20424 [==============================] - 20389s 998ms/step - loss: 1.3161 - acc: 0.5726 - val_loss: 0.9663 - val_acc: 0.8415\n"
     ]
    },
    {
     "data": {
      "text/plain": [
       "<tensorflow.python.keras.callbacks.History at 0x7f7ceab63f60>"
      ]
     },
     "execution_count": 19,
     "metadata": {},
     "output_type": "execute_result"
    }
   ],
   "source": [
    "# myModel.fit(train_ds,epochs=3,steps_per_epoch=TRAIN_SIZE-VALIDATION_SET_SIZE,\n",
    "#              validation_data=validation_ds,validation_steps=VALIDATION_SET_SIZE,\n",
    "#            callbacks = [cp_callback])"
   ]
  },
  {
   "cell_type": "code",
   "execution_count": 20,
   "metadata": {},
   "outputs": [
    {
     "ename": "ValueError",
     "evalue": "not enough values to unpack (expected 2, got 0)",
     "output_type": "error",
     "traceback": [
      "\u001b[0;31m---------------------------------------------------------------------------\u001b[0m",
      "\u001b[0;31mValueError\u001b[0m                                Traceback (most recent call last)",
      "\u001b[0;32m<ipython-input-20-ad74f04dadd0>\u001b[0m in \u001b[0;36m<module>\u001b[0;34m\u001b[0m\n\u001b[0;32m----> 1\u001b[0;31m \u001b[0mtest1\u001b[0m\u001b[0;34m,\u001b[0m\u001b[0mtest2\u001b[0m \u001b[0;34m=\u001b[0m \u001b[0mread_images\u001b[0m\u001b[0;34m(\u001b[0m\u001b[0mTEST_PATH\u001b[0m\u001b[0;34m,\u001b[0m\u001b[0mMODE\u001b[0m\u001b[0;34m,\u001b[0m\u001b[0mBATCH_SIZE\u001b[0m\u001b[0;34m)\u001b[0m\u001b[0;34m;\u001b[0m\u001b[0;34m\u001b[0m\u001b[0m\n\u001b[0m",
      "\u001b[0;32m<ipython-input-7-6c113754b592>\u001b[0m in \u001b[0;36mread_images\u001b[0;34m(dataset_path, mode, batch_size)\u001b[0m\n\u001b[1;32m     86\u001b[0m     \u001b[0mimgWLabelPath\u001b[0m \u001b[0;34m=\u001b[0m \u001b[0mlist\u001b[0m\u001b[0;34m(\u001b[0m\u001b[0mzip\u001b[0m\u001b[0;34m(\u001b[0m\u001b[0mimagePaths\u001b[0m\u001b[0;34m,\u001b[0m\u001b[0mlabels\u001b[0m\u001b[0;34m)\u001b[0m\u001b[0;34m)\u001b[0m\u001b[0;34m\u001b[0m\u001b[0m\n\u001b[1;32m     87\u001b[0m     \u001b[0mrandom\u001b[0m\u001b[0;34m.\u001b[0m\u001b[0mshuffle\u001b[0m\u001b[0;34m(\u001b[0m\u001b[0mimgWLabelPath\u001b[0m\u001b[0;34m)\u001b[0m\u001b[0;34m\u001b[0m\u001b[0m\n\u001b[0;32m---> 88\u001b[0;31m     \u001b[0mimagePaths\u001b[0m\u001b[0;34m,\u001b[0m\u001b[0mlabels\u001b[0m \u001b[0;34m=\u001b[0m \u001b[0mzip\u001b[0m\u001b[0;34m(\u001b[0m\u001b[0;34m*\u001b[0m\u001b[0mimgWLabelPath\u001b[0m\u001b[0;34m)\u001b[0m\u001b[0;34m\u001b[0m\u001b[0m\n\u001b[0m\u001b[1;32m     89\u001b[0m     \u001b[0mimagePaths\u001b[0m \u001b[0;34m=\u001b[0m \u001b[0mlist\u001b[0m\u001b[0;34m(\u001b[0m\u001b[0mimagePaths\u001b[0m\u001b[0;34m)\u001b[0m\u001b[0;34m\u001b[0m\u001b[0m\n\u001b[1;32m     90\u001b[0m     \u001b[0mlabels\u001b[0m \u001b[0;34m=\u001b[0m \u001b[0mlist\u001b[0m\u001b[0;34m(\u001b[0m\u001b[0mlabels\u001b[0m\u001b[0;34m)\u001b[0m\u001b[0;34m\u001b[0m\u001b[0m\n",
      "\u001b[0;31mValueError\u001b[0m: not enough values to unpack (expected 2, got 0)"
     ]
    }
   ],
   "source": []
  },
  {
   "cell_type": "code",
   "execution_count": 17,
   "metadata": {
    "colab": {},
    "colab_type": "code",
    "id": "8f_AmpFhHdHn"
   },
   "outputs": [],
   "source": [
    "r = myModel.predict(tf.expand_dims(X_train[0],0))"
   ]
  },
  {
   "cell_type": "code",
   "execution_count": 18,
   "metadata": {
    "colab": {
     "base_uri": "https://8080-dot-3774157-dot-devshell.appspot.com/",
     "height": 54
    },
    "colab_type": "code",
    "id": "shjSf5NXHdHt",
    "outputId": "2d33c1eb-e663-48d8-8b74-ef06f1d5f791"
   },
   "outputs": [
    {
     "data": {
      "text/plain": [
       "array([[0.7271073 , 0.01438884, 0.0219845 , 0.0248137 , 0.04970392,\n",
       "        0.03864134, 0.01055616, 0.00492368, 0.02657863, 0.08130191]],\n",
       "      dtype=float32)"
      ]
     },
     "execution_count": 18,
     "metadata": {},
     "output_type": "execute_result"
    }
   ],
   "source": [
    "r"
   ]
  },
  {
   "cell_type": "code",
   "execution_count": 23,
   "metadata": {
    "colab": {
     "base_uri": "https://8080-dot-3774157-dot-devshell.appspot.com/",
     "height": 68
    },
    "colab_type": "code",
    "id": "sjVSWBrhHdH0",
    "outputId": "24c2fb4c-1609-44c4-ff2c-8b454c1b594f"
   },
   "outputs": [
    {
     "data": {
      "text/plain": [
       "array([[0.04217782, 0.13044736, 0.22955151, 0.04273468, 0.02916672,\n",
       "        0.03564551, 0.07084971, 0.23657893, 0.10521378, 0.07763392]],\n",
       "      dtype=float32)"
      ]
     },
     "execution_count": 23,
     "metadata": {},
     "output_type": "execute_result"
    }
   ],
   "source": []
  },
  {
   "cell_type": "code",
   "execution_count": 19,
   "metadata": {
    "colab": {},
    "colab_type": "code",
    "id": "-lVyo5tkU5MK"
   },
   "outputs": [
    {
     "name": "stdout",
     "output_type": "stream",
     "text": [
      "True\n"
     ]
    }
   ],
   "source": [
    "print(tf.test.is_gpu_available())"
   ]
  },
  {
   "cell_type": "code",
   "execution_count": null,
   "metadata": {},
   "outputs": [],
   "source": []
  }
 ],
 "metadata": {
  "accelerator": "GPU",
  "colab": {
   "collapsed_sections": [],
   "name": "ResNet.ipynb",
   "provenance": [],
   "toc_visible": true,
   "version": "0.3.2"
  },
  "kernelspec": {
   "display_name": "Python 3",
   "language": "python",
   "name": "python3"
  },
  "language_info": {
   "codemirror_mode": {
    "name": "ipython",
    "version": 3
   },
   "file_extension": ".py",
   "mimetype": "text/x-python",
   "name": "python",
   "nbconvert_exporter": "python",
   "pygments_lexer": "ipython3",
   "version": "3.5.3"
  }
 },
 "nbformat": 4,
 "nbformat_minor": 2
}
